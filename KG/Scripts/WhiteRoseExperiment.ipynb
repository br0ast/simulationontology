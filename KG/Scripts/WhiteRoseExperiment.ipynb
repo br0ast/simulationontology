{
  "nbformat": 4,
  "nbformat_minor": 0,
  "metadata": {
    "colab": {
      "name": "WhiteRoseExperiment",
      "provenance": []
    },
    "kernelspec": {
      "name": "python3",
      "display_name": "Python 3"
    },
    "language_info": {
      "name": "python"
    }
  },
  "cells": [
    {
      "cell_type": "markdown",
      "metadata": {
        "id": "Ikfqi56ylB8L"
      },
      "source": [
        "# White Rose Experiment\n",
        "\n",
        "Aim of the experiment: prove that symbols are influenced by their color.\n",
        "\n",
        "Case study: symbolic meanings of a white rose.\n",
        "\n",
        "## Files needed for the experiment\n",
        "\n",
        "HyperReal Knowledge graph (full version)\n",
        "\n",
        "## Libraries needed\n",
        "\n",
        "*   rdflib\n",
        "*   pandas\n",
        "*   numpy\n",
        "*   matplotlib\n",
        "\n",
        "## Acknowledgements\n",
        "\n",
        "The script that generate the graph is a modified version of the script described [here](https://www.python-graph-gallery.com/circular-barplot-basic)"
      ]
    },
    {
      "cell_type": "code",
      "metadata": {
        "id": "n7SWqNOjk-ew"
      },
      "source": [
        "pip install rdflib"
      ],
      "execution_count": null,
      "outputs": []
    },
    {
      "cell_type": "code",
      "metadata": {
        "id": "KZ6V0pdSqwx9"
      },
      "source": [
        "from rdflib import Namespace, URIRef\n",
        "import rdflib\n",
        "import rdfextras\n",
        "rdfextras.registerplugins() # so we can Graph.query()\n",
        "import matplotlib.pyplot as plt\n",
        "import numpy as np\n",
        "import pandas as pd\n",
        "import re\n",
        "from rdflib.namespace import CSVW, DC, DCAT, DCTERMS, DOAP, FOAF, ODRL2, ORG, OWL, \\\n",
        "                           PROF, PROV, RDF, RDFS, SDO, SH, SKOS, SOSA, SSN, TIME, \\\n",
        "                           VOID, XMLNS, XSD"
      ],
      "execution_count": null,
      "outputs": []
    },
    {
      "cell_type": "code",
      "metadata": {
        "id": "7Nq8p-3JqxjV"
      },
      "source": [
        "g=rdflib.ConjunctiveGraph()\n",
        "g.parse(\"hyperreal.ttl\", format=\"turtle\")"
      ],
      "execution_count": null,
      "outputs": []
    },
    {
      "cell_type": "code",
      "metadata": {
        "id": "KuoO9mMpq0vA"
      },
      "source": [
        "onturi = \"https://w3id.org/simulation/ontology/\"\n",
        "dizuri = \"https://w3id.org/simulation/data/\"\n",
        "ont = Namespace(\"https://w3id.org/simulation/ontology/\")\n",
        "diz = Namespace(dizuri)\n",
        "g.bind(\"sim\", ont)\n",
        "g.bind(\"kb\", diz)\n",
        "roses = [\"whiteRose\"]\n",
        "meanings = set()\n",
        "for rose in roses:\n",
        "    url = URIRef(\"https://w3id.org/simulation/data/\"+rose)\n",
        "    for s, p, o in g.triples((None, ont.hasSimulacrum, url)):\n",
        "        for s2, p2, o2 in g.triples((s, ont.hasRealityCounterpart, None)):\n",
        "            meanings.add(o2)"
      ],
      "execution_count": null,
      "outputs": []
    },
    {
      "cell_type": "code",
      "metadata": {
        "id": "NbfMzw_Hq27T"
      },
      "source": [
        "rcrel = [\"hasRealityCounterpart\", \"elicitedRealityCounterpart\", \"restoredRealityCounterpart\", \"preventedRealityCounterpart\", \"easedRealityCounterpart\", \"healedRealityCounterpart\"]\n",
        "pattern2 = re.compile(\"(?i)^red| red|blue|purple|^black | black|burgundy|white|^gold | gold|golden|^green |green |^green\")"
      ],
      "execution_count": null,
      "outputs": []
    },
    {
      "cell_type": "code",
      "metadata": {
        "id": "9JPDRsmCq4zk"
      },
      "source": [
        "firstmatch = set()\n",
        "matchedcolored = dict()\n",
        "for s, p, o in g.triples((None, None, ont.Simulacrum)):\n",
        "    for s2, p2, o2 in g.triples((s, RDFS.label, None)):\n",
        "        match = re.search(pattern2, o2)\n",
        "        if match and \"rose\" not in o2:\n",
        "            firstmatch.add(s)\n",
        "            for s3, p3, o3 in g.triples((s, ont.isSimulacrumOf, None)):\n",
        "                for rc in rcrel:\n",
        "                    rcuri = URIRef(\"https://w3id.org/simulation/ontology/\"+rc)\n",
        "                    for s4, p4, o4 in g.triples((o3, rcuri, None)):\n",
        "                        if o4 in meanings:\n",
        "                            scool = s.n3()[1:-1].replace(\"https://w3id.org/simulation/data/\", \"\")\n",
        "                            o4cool = o4.n3()[1:-1].replace(\"https://w3id.org/simulation/data/\", \"\")\n",
        "                            if scool in matchedcolored:\n",
        "                                matchedcolored[scool].add(o4cool)\n",
        "                            else:\n",
        "                                matchedcolored[scool] = set()\n",
        "                                matchedcolored[scool].add(o4cool)"
      ],
      "execution_count": null,
      "outputs": []
    },
    {
      "cell_type": "code",
      "metadata": {
        "id": "wleN351pq7CO"
      },
      "source": [
        "query='''\n",
        "PREFIX kb: <https://w3id.org/simulation/data/> \n",
        "PREFIX sim: <https://w3id.org/simulation/ontology/> \n",
        "\n",
        "SELECT ?sim ?type ?rc ?context WHERE { VALUES ?sim {kb:whiteRose}\n",
        "?sim sim:isSimulacrumOf ?simulation .\n",
        "?simulation a ?type ;\n",
        "sim:hasRealityCounterpart|sim:restoredRealityCounterpart|sim:elicitedRealityCounterpart|sim:preventedRealityCounterpart|sim:easedRealityCounterpart|sim:healedRealityCounterpart ?rc;\n",
        "sim:hasContext ?context\n",
        "}\n",
        "'''\n",
        "zero = dict()\n",
        "results = g.query(query)\n",
        "for row in results:\n",
        "    label = row[0].n3()[1:-1].replace(\"https://w3id.org/simulation/data/\", \"\")\n",
        "    rc = row[2].n3()[1:-1].replace(\"https://w3id.org/simulation/data/\", \"\")\n",
        "    if label in zero:\n",
        "        zero[label][rc] = {\"blue\":0, \"white\":0, \"gold\":0, \"purple\":0, \"red\":0, \"black\":0, \"green\":0}\n",
        "    else:\n",
        "        if \"golden\" in label:\n",
        "            label = label.replace(\"golden\", \"gold\")\n",
        "            if label in zero:\n",
        "                zero[label][rc] = {\"blue\":0, \"white\":0, \"gold\":0, \"purple\":0, \"red\":0, \"black\":0, \"green\":0}\n",
        "        else:\n",
        "            zero[label] = {rc:{\"blue\":0, \"white\":0, \"gold\":0, \"purple\":0, \"red\":0, \"black\":0, \"green\":0}}"
      ],
      "execution_count": null,
      "outputs": []
    },
    {
      "cell_type": "code",
      "metadata": {
        "id": "_jXG-qu9rAaG"
      },
      "source": [
        "colors = [\"blue\", \"gold\", \"red\", \"white\", \"black\", \"purple\", \"green\"]\n",
        "for term in matchedcolored:\n",
        "    for color in colors:\n",
        "        if color in term:\n",
        "            for meaning in matchedcolored[term]:\n",
        "                for rose in zero:\n",
        "                    if meaning in zero[rose]:\n",
        "                        zero[rose][meaning][color] += 1"
      ],
      "execution_count": null,
      "outputs": []
    },
    {
      "cell_type": "code",
      "metadata": {
        "id": "wtnjA7XsrBGG"
      },
      "source": [
        "one = dict()\n",
        "for z in zero:\n",
        "    one[z] = dict()\n",
        "    for meaning in zero[z]:\n",
        "        tot = 0\n",
        "        for color in zero[z][meaning]:\n",
        "            tot += zero[z][meaning][color]\n",
        "        if tot > 0:\n",
        "            one[z][meaning] = zero[z][meaning]"
      ],
      "execution_count": null,
      "outputs": []
    },
    {
      "cell_type": "code",
      "metadata": {
        "id": "Qc2WL0dqrC-Q"
      },
      "source": [
        "maxm = 0\n",
        "for o in one:\n",
        "    for meaning in one[o]:\n",
        "        possible = 0\n",
        "        for color in one[o][meaning]:\n",
        "            possible += one[o][meaning][color]\n",
        "        if possible > maxm:\n",
        "            maxm = possible\n",
        "        if possible == 13:\n",
        "            print(meaning)\n",
        "print(maxm)"
      ],
      "execution_count": null,
      "outputs": []
    },
    {
      "cell_type": "code",
      "metadata": {
        "id": "ZvjCBR20rGdl"
      },
      "source": [
        "rosecolor = \"white\"\n",
        "df = pd.DataFrame(\n",
        "        {\n",
        "            'Name': [key for key in one[rosecolor + \"Rose\"]],\n",
        "            'redValue': [k[\"red\"] for k in one[rosecolor + \"Rose\"].values()],\n",
        "            'blueValue': [k[\"blue\"] for k in one[rosecolor + \"Rose\"].values()],\n",
        "            'whiteValue': [k[\"white\"] for k in one[rosecolor + \"Rose\"].values()],\n",
        "            'blackValue': [k[\"black\"] for k in one[rosecolor + \"Rose\"].values()],\n",
        "            'purpleValue': [k[\"purple\"] for k in one[rosecolor + \"Rose\"].values()],\n",
        "            'goldValue': [k[\"gold\"] for k in one[rosecolor + \"Rose\"].values()],\n",
        "            'greenValue': [k[\"green\"] for k in one[rosecolor + \"Rose\"].values()]\n",
        "        })"
      ],
      "execution_count": null,
      "outputs": []
    },
    {
      "cell_type": "code",
      "metadata": {
        "id": "Zzy4x45GrJGt"
      },
      "source": [
        "\n",
        "plt.figure(figsize=(20,10))\n",
        "ax = plt.subplot(111, polar=True)\n",
        "plt.axis('off')\n",
        "upperLimit = 50\n",
        "lowerLimit = 5\n",
        "max = 15\n",
        "\n",
        "# Let's compute heights: they are a conversion of each item value in those new coordinates\n",
        "# In our example, 0 in the dataset will be converted to the lowerLimit (10)\n",
        "# The maximum will be converted to the upperLimit (100)\n",
        "#slope = (max - lowerLimit) / max\n",
        "redheights = df.redValue\n",
        "blueheights = df.blueValue\n",
        "whiteheights = df.whiteValue\n",
        "blackheights = df.blackValue\n",
        "purpleheights = df.purpleValue\n",
        "goldheights = df.goldValue\n",
        "greenheights = df.greenValue\n",
        "\n",
        "# Compute the width of each bar. In total we have 2*Pi = 360°\n",
        "width = 2*np.pi / len(df.index)\n",
        "\n",
        "# Compute the angle each bar is centered on:\n",
        "indexes = list(range(1, len(df.index)+1))\n",
        "angles = [element * width for element in indexes]\n",
        "angles\n",
        "# Draw bars\n",
        "bars4= ax.bar(\n",
        "    x=angles, \n",
        "    height=blackheights, \n",
        "    width=width, \n",
        "    bottom=lowerLimit +  + whiteheights + redheights + goldheights + greenheights + blueheights + purpleheights,\n",
        "    linewidth=0, \n",
        "    edgecolor=\"black\",\n",
        "    color=\"#000000\",\n",
        ")\n",
        "bars = ax.bar(\n",
        "    x=angles, \n",
        "    height=redheights, \n",
        "    width=width, \n",
        "    bottom=lowerLimit + whiteheights,\n",
        "    linewidth=0, \n",
        "    edgecolor=\"black\",\n",
        "    color=\"#e00700\",\n",
        ")\n",
        "bars6= ax.bar(\n",
        "    x=angles, \n",
        "    height=goldheights, \n",
        "    width=width, \n",
        "    bottom=lowerLimit + whiteheights + redheights,\n",
        "    linewidth=0, \n",
        "    edgecolor=\"black\",\n",
        "    color=\"#ffc400\",\n",
        ")\n",
        "bars7= ax.bar(\n",
        "    x=angles, \n",
        "    height=greenheights, \n",
        "    width=width, \n",
        "    bottom=lowerLimit + whiteheights + redheights + goldheights,\n",
        "    linewidth=0, \n",
        "    edgecolor=\"black\",\n",
        "    color=\"green\",\n",
        ")\n",
        "\n",
        "bars2= ax.bar(\n",
        "    x=angles, \n",
        "    height=blueheights, \n",
        "    width=width, \n",
        "    bottom=lowerLimit + whiteheights + redheights + goldheights + greenheights,\n",
        "    linewidth=0, \n",
        "    edgecolor=\"black\",\n",
        "    color=\"#0033ff\",\n",
        ")\n",
        "bars5= ax.bar(\n",
        "    x=angles, \n",
        "    height=purpleheights, \n",
        "    width=width, \n",
        "    bottom=lowerLimit + whiteheights + redheights + goldheights + greenheights + blueheights,\n",
        "    linewidth=0, \n",
        "    edgecolor=\"black\",\n",
        "    color=\"#ea00ff\",\n",
        ")\n",
        "bars3= ax.bar(\n",
        "    x=angles, \n",
        "    height=whiteheights, \n",
        "    width=width, \n",
        "    bottom=lowerLimit,\n",
        "    linewidth=0, \n",
        "    edgecolor=\"black\",\n",
        "    color=\"#f0f2f2\",\n",
        ")\n",
        "\n",
        "\n",
        "\n",
        "# little space between the bar and the label\n",
        "labelPadding = 1\n",
        "\n",
        "# Add labels\n",
        "for bar, bar1, bar2, bar3, bar4, bar5, bar6, angle, height, label in zip(bars, bars2, bars3, bars4, bars5, bars6, bars7, angles, goldheights, df[\"Name\"]):\n",
        "\n",
        "    # Labels are rotated. Rotation must be specified in degrees :(\n",
        "    rotation = np.rad2deg(angle)\n",
        "\n",
        "    # Flip some labels upside down\n",
        "    alignment = \"\"\n",
        "    if angle >= np.pi/2 and angle < 3*np.pi/2:\n",
        "        alignment = \"right\"\n",
        "        rotation = rotation + 180\n",
        "    else: \n",
        "        alignment = \"left\"\n",
        "\n",
        "    # Finally add the labels\n",
        "    ax.text(\n",
        "        x=angle, \n",
        "        y=lowerLimit + labelPadding + bar.get_height() + bar1.get_height() + bar2.get_height() + bar3.get_height() + bar4.get_height() + bar5.get_height() + bar6.get_height(), \n",
        "        s=label, \n",
        "        ha=alignment, \n",
        "        va='center', \n",
        "        rotation=rotation, \n",
        "        rotation_mode=\"anchor\")\n",
        "\n",
        "#plt.savefig(rosecolor+'.png')\n",
        "#plt.savefig(rosecolor+'.pdf')\n",
        "\n",
        "#Uncomment the two commented lines above to save the generated graph as either\n",
        "# a png or pdf file"
      ],
      "execution_count": null,
      "outputs": []
    }
  ]
}